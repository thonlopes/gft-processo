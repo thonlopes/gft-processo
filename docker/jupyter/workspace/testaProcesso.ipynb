{
 "cells": [
  {
   "cell_type": "code",
   "execution_count": null,
   "metadata": {},
   "outputs": [],
   "source": [
    "from pyspark.sql import SparkSession\n",
    "import pandas\n",
    "from pyspark.sql.types     import *\n",
    "from pyspark.sql.functions import *\n",
    "from datetime              import datetime\n",
    "from pyspark.sql.types     import IntegerType"
   ]
  },
  {
   "cell_type": "code",
   "execution_count": null,
   "metadata": {},
   "outputs": [],
   "source": [
    "appNameSpark = \"Carrega dados covid\"\n",
    "hdfsNodeRaw = \"hdfs://hadoop-namenode:9000/gft/raw/covid\"\n",
    "hdfsNodeTrusted = \"hdfs://hadoop-namenode:9000/gft/trusted/covid\"\n",
    "hdfsNodeRefined = \"hdfs://hadoop-namenode:9000/gft/refined/covid\"\n",
    "header =True\n",
    "delimiter = ','"
   ]
  },
  {
   "cell_type": "code",
   "execution_count": null,
   "metadata": {},
   "outputs": [],
   "source": [
    "spark = SparkSession.builder \\\n",
    "                    .master(\"local[1]\")\\\n",
    "                    .appName(appNameSpark) \\\n",
    "                    .getOrCreate()"
   ]
  },
  {
   "attachments": {},
   "cell_type": "markdown",
   "metadata": {},
   "source": [
    "###Carrega arquivos csv da raw"
   ]
  },
  {
   "cell_type": "code",
   "execution_count": null,
   "metadata": {},
   "outputs": [],
   "source": [
    "df_csv = spark.read\\\n",
    "                .option('header', header)\\\n",
    "                .option('delimiter', delimiter)\\\n",
    "                .option(\"escape\", \"\\\"\")\\\n",
    "                .csv(str(hdfsNodeRaw))"
   ]
  },
  {
   "cell_type": "code",
   "execution_count": null,
   "metadata": {},
   "outputs": [],
   "source": [
    "df_csv.show(10)"
   ]
  },
  {
   "attachments": {},
   "cell_type": "markdown",
   "metadata": {},
   "source": [
    "###Carrega arquivos parquet da trusted"
   ]
  },
  {
   "cell_type": "code",
   "execution_count": null,
   "metadata": {},
   "outputs": [],
   "source": [
    "df_parquet = spark.read\\\n",
    "                .option('header', header)\\\n",
    "                .option('delimiter', delimiter)\\\n",
    "                .option(\"escape\", \"\\\"\")\\\n",
    "                .parquet(str(hdfsNodeTrusted))"
   ]
  },
  {
   "cell_type": "code",
   "execution_count": null,
   "metadata": {},
   "outputs": [],
   "source": [
    "df_parquet.limit(10).toPandas().head()"
   ]
  },
  {
   "cell_type": "code",
   "execution_count": null,
   "metadata": {},
   "outputs": [],
   "source": [
    "df_covid =  df_parquet.withColumn('ID', col('_id').cast(StringType()))\\\n",
    "                    .withColumn('DT_NOTIFICACAO', col('dataNotificacao').cast(StringType()))\\\n",
    "                    .withColumn('CNES', col('cnes').cast(StringType()))\\\n",
    "                    .withColumn('OC_SUSPEITA_CLI', col('ocupacaoSuspeitoCli').cast(IntegerType()))\\\n",
    "                    .withColumn('OC_SUSPEITA_UTI', col('ocupacaoSuspeitoUti').cast(IntegerType()))\\\n",
    "                    .withColumn('OC_CONFIRMADA_CLI', col('ocupacaoConfirmadoCli').cast(IntegerType()))\\\n",
    "                    .withColumn('OC_CONFIRAMDA_UTI', col('ocupacaoConfirmadoUti').cast(IntegerType()))\\\n",
    "                    .withColumn('OC_COVID_CLI', col('ocupacaoCovidCli').cast(IntegerType()))\\\n",
    "                    .withColumn('OC_COVID_UTI', col('ocupacaoCovidUti').cast(IntegerType()))\\\n",
    "                    .withColumn('OC_HOSPITALAR_CLI', col('ocupacaoHospitalarCli').cast(IntegerType()))\\\n",
    "                    .withColumn('OC_HOSPITALAR_UTI', col('ocupacaoHospitalarUti').cast(IntegerType()))\\\n",
    "                    .withColumn('SD_SUSPEITA_OBITOS', col('saidaSuspeitaObitos').cast(IntegerType()))\\\n",
    "                    .withColumn('SD_SUSPEITA_ALTAS', col('saidaSuspeitaAltas').cast(IntegerType()))\\\n",
    "                    .withColumn('SD_CONFIRMADA_OBITOS', col('saidaConfirmadaObitos').cast(IntegerType()))\\\n",
    "                    .withColumn('SD_CONFIRMADA_ALTAS', col('saidaConfirmadaAltas').cast(IntegerType()))\\\n",
    "                    .withColumn('ORIGEM', col('origem').cast(StringType()))\\\n",
    "                    .withColumn('CD_USUARIO', col('_p_usuario').cast(StringType()))\\\n",
    "                    .withColumn('UF', col('estado').cast(StringType()))\\\n",
    "                    .withColumn('MUNICIPIO', col('municipio').cast(StringType()))"
   ]
  },
  {
   "cell_type": "code",
   "execution_count": null,
   "metadata": {},
   "outputs": [],
   "source": [
    "df_covid.write\\\n",
    "                        .mode('append')\\\n",
    "                        .parquet(str(hdfsNodeRefined))"
   ]
  }
 ],
 "metadata": {
  "language_info": {
   "name": "python"
  },
  "orig_nbformat": 4
 },
 "nbformat": 4,
 "nbformat_minor": 2
}
