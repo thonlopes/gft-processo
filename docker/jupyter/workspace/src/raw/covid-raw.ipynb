{
 "cells": [
  {
   "cell_type": "markdown",
   "id": "c89c6c47",
   "metadata": {},
   "source": [
    "##importe libs "
   ]
  },
  {
   "cell_type": "code",
   "execution_count": null,
   "id": "3f4e9c5b",
   "metadata": {},
   "outputs": [],
   "source": [
    "import pyspark\n",
    "from pyspark.sql import SparkSession\n",
    "from pyspark.sql.functions import *\n",
    "from pyspark import SparkFiles\n",
    "import datetime    \n",
    "dtLoad = datetime.datetime.today()"
   ]
  },
  {
   "cell_type": "code",
   "execution_count": 2,
   "id": "5657a264",
   "metadata": {},
   "outputs": [],
   "source": [
    "hdfsNode = \"hdfs://hadoop-namenode:9000/gft/\"\n",
    "path_save = \"raw/covid/\""
   ]
  },
  {
   "cell_type": "code",
   "execution_count": null,
   "id": "619b4d38",
   "metadata": {},
   "outputs": [],
   "source": [
    "spark = SparkSession.\\\n",
    "        builder.\\\n",
    "        appName(\"pyspark-raw-covid\").\\\n",
    "        getOrCreate()"
   ]
  },
  {
   "cell_type": "code",
   "execution_count": null,
   "id": "728bbdee",
   "metadata": {},
   "outputs": [],
   "source": [
    "url = \"https://s3.sa-east-1.amazonaws.com/ckan.saude.gov.br/LEITOS/2023-02-21/esus-vepi.LeitoOcupacao_2022.csv\"\n",
    "csvName = \"esus-vepi.LeitoOcupacao_2022.csv\""
   ]
  },
  {
   "cell_type": "code",
   "execution_count": null,
   "id": "93c4e9c7",
   "metadata": {},
   "outputs": [],
   "source": [
    "spark.sparkContext.addFile(url)"
   ]
  },
  {
   "cell_type": "code",
   "execution_count": null,
   "id": "dc1d29be",
   "metadata": {},
   "outputs": [],
   "source": [
    "df = spark.read.csv(SparkFiles.get(csvName),inferSchema=True, header=True,  sep =',',  multiLine=True)"
   ]
  },
  {
   "cell_type": "code",
   "execution_count": null,
   "id": "0e346d57",
   "metadata": {},
   "outputs": [],
   "source": [
    "df = df.withColumn('dt_folder', current_date())"
   ]
  },
  {
   "cell_type": "code",
   "execution_count": null,
   "id": "8f8009be",
   "metadata": {},
   "outputs": [],
   "source": [
    "df.write.option(\"header\", False)\\\n",
    "        .mode(\"overwrite\") \\\n",
    "        .partitionBy(\"dt_folder\")\\\n",
    "        .csv(hdfsNode + path_save + csvName )"
   ]
  }
 ],
 "metadata": {
  "kernelspec": {
   "display_name": "Python 3 (ipykernel)",
   "language": "python",
   "name": "python3"
  },
  "language_info": {
   "codemirror_mode": {
    "name": "ipython",
    "version": 3
   },
   "file_extension": ".py",
   "mimetype": "text/x-python",
   "name": "python",
   "nbconvert_exporter": "python",
   "pygments_lexer": "ipython3",
   "version": "3.10.10"
  },
  "vscode": {
   "interpreter": {
    "hash": "684733a9f70251f4256e152958fb9f6a6b792279cdeef3cb8b4a866ebe3ac13d"
   }
  }
 },
 "nbformat": 4,
 "nbformat_minor": 5
}
