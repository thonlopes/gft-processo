{
 "cells": [
  {
   "cell_type": "code",
   "execution_count": null,
   "metadata": {},
   "outputs": [],
   "source": []
  }
 ],
 "metadata": {
  "kernelspec": {
   "display_name": "Python 3",
   "language": "python",
   "name": "python3"
  },
  "language_info": {
   "name": "python",
   "version": "3.10.10"
  },
  "orig_nbformat": 4,
  "vscode": {
   "interpreter": {
    "hash": "684733a9f70251f4256e152958fb9f6a6b792279cdeef3cb8b4a866ebe3ac13d"
   }
  }
 },
 "nbformat": 4,
 "nbformat_minor": 2
}
