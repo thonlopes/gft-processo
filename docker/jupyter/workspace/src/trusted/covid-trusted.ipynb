{
 "cells": [
  {
   "cell_type": "code",
   "execution_count": 1,
   "id": "c2cf1c29",
   "metadata": {},
   "outputs": [],
   "source": [
    "import pyspark\n",
    "from pyspark.sql import SparkSession\n",
    "from pyspark.sql.functions import *\n",
    "from pyspark.sql.types import *\n",
    "from pyspark import SparkFiles\n",
    "from datetime import datetime"
   ]
  },
  {
   "cell_type": "code",
   "execution_count": 2,
   "id": "6ac94247",
   "metadata": {},
   "outputs": [],
   "source": [
    "hdfsNode = \"hdfs://hadoop-namenode:9000/serasa/\"\n",
    "path_load = \"raw/covid/\"\n",
    "path_trusted = \"trusted/covid/\"\n",
    "csvName = \"esus-vepi.LeitoOcupacao_2022.csv\""
   ]
  },
  {
   "cell_type": "code",
   "execution_count": null,
   "id": "ae688a5f",
   "metadata": {},
   "outputs": [],
   "source": [
    "spark = SparkSession.\\\n",
    "        builder.\\\n",
    "        appName(\"pyspark-trusted-covid\").\\\n",
    "        master(\"spark://spark-master:7077\").\\\n",
    "        config(\"spark.executor.memory\", \"512m\").\\\n",
    "        getOrCreate()"
   ]
  },
  {
   "cell_type": "code",
   "execution_count": null,
   "id": "b6b21f3c",
   "metadata": {},
   "outputs": [],
   "source": [
    "fileSchema = StructType([StructField('_c0', StringType(),True),\n",
    "                         StructField('_id', StringType(),True),\n",
    "                         StructField('dataNotificacao', StringType(),True),\n",
    "                         StructField('cnes', StringType(),True),\n",
    "                         StructField('ocupacaoSuspeitoCli', StringType(),True),\n",
    "                         StructField('ocupacaoSuspeitoUti', StringType(),True),\n",
    "                         StructField('ocupacaoConfirmadoCli', StringType(),True),\n",
    "                         StructField('ocupacaoConfirmadoUti', StringType(),True),\n",
    "                         StructField('ocupacaoCovidUti', StringType(),True),\n",
    "                         StructField('ocupacaoCovidCli', StringType(),True),\n",
    "                         StructField('ocupacaoHospitalarUti', StringType(),True),\n",
    "                         StructField('ocupacaoHospitalarCli', StringType(),True),\n",
    "                         StructField('saidaSuspeitaObitos', StringType(),True),\n",
    "                         StructField('saidaSuspeitaAltas', StringType(),True),\n",
    "                         StructField('saidaConfirmadaObitos', StringType(),True),\n",
    "                         StructField('saidaConfirmadaAltas', StringType(),True),\n",
    "                         StructField('origem', StringType(),True),\n",
    "                         StructField('_p_usuario', StringType(),True),\n",
    "                         StructField('estadoNotificacao', StringType(),True),\n",
    "                         StructField('municipioNotificacao', StringType(),True),\n",
    "                         StructField('estado', StringType(),True),\n",
    "                         StructField('municipio', StringType(),True),\n",
    "                         StructField('excluido', StringType(),True),\n",
    "                         StructField('validado', StringType(),True),\n",
    "                         StructField('_created_at', StringType(),True),\n",
    "                         StructField('_updated_at', StringType(),True),\n",
    "                         StructField('dt_folder', DateType(),True)\n",
    "    \n",
    "            ])"
   ]
  },
  {
   "cell_type": "code",
   "execution_count": 4,
   "id": "1a22ced3",
   "metadata": {},
   "outputs": [],
   "source": [
    "df = spark.read.csv(hdfsNode + path_raw + csvName, schema= fileSchema, header=True, sep=\",\", multiLine=True)"
   ]
  },
  {
   "cell_type": "code",
   "execution_count": 8,
   "id": "58e9b6f9",
   "metadata": {},
   "outputs": [],
   "source": [
    "##df_max = df.select(col('dt_folder')).agg(max(col('dt_folder')).alias('dt_folder'))"
   ]
  },
  {
   "cell_type": "code",
   "execution_count": 9,
   "id": "2d1a6a0d",
   "metadata": {},
   "outputs": [
    {
     "name": "stderr",
     "output_type": "stream",
     "text": [
      "                                                                                \r"
     ]
    },
    {
     "data": {
      "text/plain": [
       "291551"
      ]
     },
     "execution_count": 9,
     "metadata": {},
     "output_type": "execute_result"
    }
   ],
   "source": [
    "df.write.option(\"header\",True) \\\n",
    "        .mode(\"append\") \\\n",
    "        .partitionBy(\"dt_folder\",\"estado\")\\\n",
    "        .parquet(hdfsNode + path_trusted)"
   ]
  }
 ],
 "metadata": {
  "kernelspec": {
   "display_name": "Python 3",
   "language": "python",
   "name": "python3"
  },
  "language_info": {
   "codemirror_mode": {
    "name": "ipython",
    "version": 3
   },
   "file_extension": ".py",
   "mimetype": "text/x-python",
   "name": "python",
   "nbconvert_exporter": "python",
   "pygments_lexer": "ipython3",
   "version": "3.10.10"
  },
  "vscode": {
   "interpreter": {
    "hash": "684733a9f70251f4256e152958fb9f6a6b792279cdeef3cb8b4a866ebe3ac13d"
   }
  }
 },
 "nbformat": 4,
 "nbformat_minor": 5
}
